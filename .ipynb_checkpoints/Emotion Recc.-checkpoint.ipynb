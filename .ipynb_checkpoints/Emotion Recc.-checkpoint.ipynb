{
 "cells": [
  {
   "cell_type": "code",
   "execution_count": 1,
   "id": "0b3707e0",
   "metadata": {},
   "outputs": [
    {
     "name": "stdout",
     "output_type": "stream",
     "text": [
      "Requirement already satisfied: deepface in c:\\users\\deep khokhar\\anaconda3\\lib\\site-packages (0.0.79)\n",
      "Requirement already satisfied: tqdm>=4.30.0 in c:\\users\\deep khokhar\\anaconda3\\lib\\site-packages (from deepface) (4.64.1)\n",
      "Requirement already satisfied: mtcnn>=0.1.0 in c:\\users\\deep khokhar\\anaconda3\\lib\\site-packages (from deepface) (0.1.1)\n",
      "Requirement already satisfied: fire>=0.4.0 in c:\\users\\deep khokhar\\anaconda3\\lib\\site-packages (from deepface) (0.5.0)\n",
      "Requirement already satisfied: gunicorn>=20.1.0 in c:\\users\\deep khokhar\\anaconda3\\lib\\site-packages (from deepface) (21.2.0)\n",
      "Requirement already satisfied: tensorflow>=1.9.0 in c:\\users\\deep khokhar\\anaconda3\\lib\\site-packages (from deepface) (2.13.0)\n",
      "Requirement already satisfied: retina-face>=0.0.1 in c:\\users\\deep khokhar\\anaconda3\\lib\\site-packages (from deepface) (0.0.13)\n",
      "Requirement already satisfied: keras>=2.2.0 in c:\\users\\deep khokhar\\anaconda3\\lib\\site-packages (from deepface) (2.13.1)\n",
      "Requirement already satisfied: gdown>=3.10.1 in c:\\users\\deep khokhar\\anaconda3\\lib\\site-packages (from deepface) (4.7.1)\n",
      "Requirement already satisfied: numpy>=1.14.0 in c:\\users\\deep khokhar\\anaconda3\\lib\\site-packages (from deepface) (1.24.3)\n",
      "Requirement already satisfied: opencv-python>=4.5.5.64 in c:\\users\\deep khokhar\\anaconda3\\lib\\site-packages (from deepface) (4.8.0.76)\n",
      "Requirement already satisfied: Flask>=1.1.2 in c:\\users\\deep khokhar\\anaconda3\\lib\\site-packages (from deepface) (1.1.2)\n",
      "Requirement already satisfied: Pillow>=5.2.0 in c:\\users\\deep khokhar\\anaconda3\\lib\\site-packages (from deepface) (9.2.0)\n",
      "Requirement already satisfied: pandas>=0.23.4 in c:\\users\\deep khokhar\\anaconda3\\lib\\site-packages (from deepface) (1.4.4)\n",
      "Requirement already satisfied: six in c:\\users\\deep khokhar\\anaconda3\\lib\\site-packages (from fire>=0.4.0->deepface) (1.16.0)\n",
      "Requirement already satisfied: termcolor in c:\\users\\deep khokhar\\anaconda3\\lib\\site-packages (from fire>=0.4.0->deepface) (2.3.0)\n",
      "Requirement already satisfied: itsdangerous>=0.24 in c:\\users\\deep khokhar\\anaconda3\\lib\\site-packages (from Flask>=1.1.2->deepface) (2.0.1)\n",
      "Requirement already satisfied: Jinja2>=2.10.1 in c:\\users\\deep khokhar\\anaconda3\\lib\\site-packages (from Flask>=1.1.2->deepface) (2.11.3)\n",
      "Requirement already satisfied: Werkzeug>=0.15 in c:\\users\\deep khokhar\\anaconda3\\lib\\site-packages (from Flask>=1.1.2->deepface) (2.0.3)\n",
      "Requirement already satisfied: click>=5.1 in c:\\users\\deep khokhar\\anaconda3\\lib\\site-packages (from Flask>=1.1.2->deepface) (8.0.4)\n",
      "Requirement already satisfied: beautifulsoup4 in c:\\users\\deep khokhar\\anaconda3\\lib\\site-packages (from gdown>=3.10.1->deepface) (4.11.1)\n",
      "Requirement already satisfied: requests[socks] in c:\\users\\deep khokhar\\anaconda3\\lib\\site-packages (from gdown>=3.10.1->deepface) (2.28.1)\n",
      "Requirement already satisfied: filelock in c:\\users\\deep khokhar\\anaconda3\\lib\\site-packages (from gdown>=3.10.1->deepface) (3.6.0)\n",
      "Requirement already satisfied: packaging in c:\\users\\deep khokhar\\anaconda3\\lib\\site-packages (from gunicorn>=20.1.0->deepface) (21.3)\n",
      "Requirement already satisfied: python-dateutil>=2.8.1 in c:\\users\\deep khokhar\\anaconda3\\lib\\site-packages (from pandas>=0.23.4->deepface) (2.8.2)\n",
      "Requirement already satisfied: pytz>=2020.1 in c:\\users\\deep khokhar\\anaconda3\\lib\\site-packages (from pandas>=0.23.4->deepface) (2022.1)\n",
      "Requirement already satisfied: tensorflow-intel==2.13.0 in c:\\users\\deep khokhar\\anaconda3\\lib\\site-packages (from tensorflow>=1.9.0->deepface) (2.13.0)\n",
      "Requirement already satisfied: protobuf!=4.21.0,!=4.21.1,!=4.21.2,!=4.21.3,!=4.21.4,!=4.21.5,<5.0.0dev,>=3.20.3 in c:\\users\\deep khokhar\\anaconda3\\lib\\site-packages (from tensorflow-intel==2.13.0->tensorflow>=1.9.0->deepface) (4.24.1)\n",
      "Requirement already satisfied: google-pasta>=0.1.1 in c:\\users\\deep khokhar\\anaconda3\\lib\\site-packages (from tensorflow-intel==2.13.0->tensorflow>=1.9.0->deepface) (0.2.0)\n",
      "Requirement already satisfied: typing-extensions<4.6.0,>=3.6.6 in c:\\users\\deep khokhar\\anaconda3\\lib\\site-packages (from tensorflow-intel==2.13.0->tensorflow>=1.9.0->deepface) (4.3.0)\n",
      "Requirement already satisfied: grpcio<2.0,>=1.24.3 in c:\\users\\deep khokhar\\anaconda3\\lib\\site-packages (from tensorflow-intel==2.13.0->tensorflow>=1.9.0->deepface) (1.57.0)\n",
      "Requirement already satisfied: setuptools in c:\\users\\deep khokhar\\anaconda3\\lib\\site-packages (from tensorflow-intel==2.13.0->tensorflow>=1.9.0->deepface) (63.4.1)\n",
      "Requirement already satisfied: absl-py>=1.0.0 in c:\\users\\deep khokhar\\anaconda3\\lib\\site-packages (from tensorflow-intel==2.13.0->tensorflow>=1.9.0->deepface) (1.4.0)\n",
      "Requirement already satisfied: wrapt>=1.11.0 in c:\\users\\deep khokhar\\anaconda3\\lib\\site-packages (from tensorflow-intel==2.13.0->tensorflow>=1.9.0->deepface) (1.14.1)\n",
      "Requirement already satisfied: tensorflow-estimator<2.14,>=2.13.0 in c:\\users\\deep khokhar\\anaconda3\\lib\\site-packages (from tensorflow-intel==2.13.0->tensorflow>=1.9.0->deepface) (2.13.0)\n",
      "Requirement already satisfied: gast<=0.4.0,>=0.2.1 in c:\\users\\deep khokhar\\anaconda3\\lib\\site-packages (from tensorflow-intel==2.13.0->tensorflow>=1.9.0->deepface) (0.4.0)\n",
      "Requirement already satisfied: astunparse>=1.6.0 in c:\\users\\deep khokhar\\anaconda3\\lib\\site-packages (from tensorflow-intel==2.13.0->tensorflow>=1.9.0->deepface) (1.6.3)\n",
      "Requirement already satisfied: libclang>=13.0.0 in c:\\users\\deep khokhar\\anaconda3\\lib\\site-packages (from tensorflow-intel==2.13.0->tensorflow>=1.9.0->deepface) (16.0.6)\n",
      "Requirement already satisfied: h5py>=2.9.0 in c:\\users\\deep khokhar\\anaconda3\\lib\\site-packages (from tensorflow-intel==2.13.0->tensorflow>=1.9.0->deepface) (3.7.0)\n",
      "Requirement already satisfied: tensorflow-io-gcs-filesystem>=0.23.1 in c:\\users\\deep khokhar\\anaconda3\\lib\\site-packages (from tensorflow-intel==2.13.0->tensorflow>=1.9.0->deepface) (0.31.0)\n",
      "Requirement already satisfied: opt-einsum>=2.3.2 in c:\\users\\deep khokhar\\anaconda3\\lib\\site-packages (from tensorflow-intel==2.13.0->tensorflow>=1.9.0->deepface) (3.3.0)\n",
      "Requirement already satisfied: flatbuffers>=23.1.21 in c:\\users\\deep khokhar\\anaconda3\\lib\\site-packages (from tensorflow-intel==2.13.0->tensorflow>=1.9.0->deepface) (23.5.26)\n",
      "Requirement already satisfied: tensorboard<2.14,>=2.13 in c:\\users\\deep khokhar\\anaconda3\\lib\\site-packages (from tensorflow-intel==2.13.0->tensorflow>=1.9.0->deepface) (2.13.0)\n",
      "Requirement already satisfied: colorama in c:\\users\\deep khokhar\\anaconda3\\lib\\site-packages (from tqdm>=4.30.0->deepface) (0.4.5)\n",
      "Requirement already satisfied: MarkupSafe>=0.23 in c:\\users\\deep khokhar\\anaconda3\\lib\\site-packages (from Jinja2>=2.10.1->Flask>=1.1.2->deepface) (2.0.1)\n",
      "Requirement already satisfied: soupsieve>1.2 in c:\\users\\deep khokhar\\anaconda3\\lib\\site-packages (from beautifulsoup4->gdown>=3.10.1->deepface) (2.3.1)\n",
      "Requirement already satisfied: pyparsing!=3.0.5,>=2.0.2 in c:\\users\\deep khokhar\\anaconda3\\lib\\site-packages (from packaging->gunicorn>=20.1.0->deepface) (3.0.9)\n",
      "Requirement already satisfied: urllib3<1.27,>=1.21.1 in c:\\users\\deep khokhar\\anaconda3\\lib\\site-packages (from requests[socks]->gdown>=3.10.1->deepface) (1.26.11)\n",
      "Requirement already satisfied: charset-normalizer<3,>=2 in c:\\users\\deep khokhar\\anaconda3\\lib\\site-packages (from requests[socks]->gdown>=3.10.1->deepface) (2.0.4)\n",
      "Requirement already satisfied: idna<4,>=2.5 in c:\\users\\deep khokhar\\anaconda3\\lib\\site-packages (from requests[socks]->gdown>=3.10.1->deepface) (3.3)\n",
      "Requirement already satisfied: certifi>=2017.4.17 in c:\\users\\deep khokhar\\anaconda3\\lib\\site-packages (from requests[socks]->gdown>=3.10.1->deepface) (2022.9.14)\n",
      "Requirement already satisfied: PySocks!=1.5.7,>=1.5.6 in c:\\users\\deep khokhar\\anaconda3\\lib\\site-packages (from requests[socks]->gdown>=3.10.1->deepface) (1.7.1)\n",
      "Requirement already satisfied: wheel<1.0,>=0.23.0 in c:\\users\\deep khokhar\\anaconda3\\lib\\site-packages (from astunparse>=1.6.0->tensorflow-intel==2.13.0->tensorflow>=1.9.0->deepface) (0.37.1)\n",
      "Requirement already satisfied: tensorboard-data-server<0.8.0,>=0.7.0 in c:\\users\\deep khokhar\\anaconda3\\lib\\site-packages (from tensorboard<2.14,>=2.13->tensorflow-intel==2.13.0->tensorflow>=1.9.0->deepface) (0.7.1)\n",
      "Requirement already satisfied: google-auth<3,>=1.6.3 in c:\\users\\deep khokhar\\anaconda3\\lib\\site-packages (from tensorboard<2.14,>=2.13->tensorflow-intel==2.13.0->tensorflow>=1.9.0->deepface) (2.22.0)\n",
      "Requirement already satisfied: google-auth-oauthlib<1.1,>=0.5 in c:\\users\\deep khokhar\\anaconda3\\lib\\site-packages (from tensorboard<2.14,>=2.13->tensorflow-intel==2.13.0->tensorflow>=1.9.0->deepface) (1.0.0)\n",
      "Requirement already satisfied: markdown>=2.6.8 in c:\\users\\deep khokhar\\anaconda3\\lib\\site-packages (from tensorboard<2.14,>=2.13->tensorflow-intel==2.13.0->tensorflow>=1.9.0->deepface) (3.3.4)\n",
      "Requirement already satisfied: cachetools<6.0,>=2.0.0 in c:\\users\\deep khokhar\\anaconda3\\lib\\site-packages (from google-auth<3,>=1.6.3->tensorboard<2.14,>=2.13->tensorflow-intel==2.13.0->tensorflow>=1.9.0->deepface) (5.3.1)\n",
      "Requirement already satisfied: rsa<5,>=3.1.4 in c:\\users\\deep khokhar\\anaconda3\\lib\\site-packages (from google-auth<3,>=1.6.3->tensorboard<2.14,>=2.13->tensorflow-intel==2.13.0->tensorflow>=1.9.0->deepface) (4.9)\n",
      "Requirement already satisfied: pyasn1-modules>=0.2.1 in c:\\users\\deep khokhar\\anaconda3\\lib\\site-packages (from google-auth<3,>=1.6.3->tensorboard<2.14,>=2.13->tensorflow-intel==2.13.0->tensorflow>=1.9.0->deepface) (0.2.8)\n",
      "Requirement already satisfied: requests-oauthlib>=0.7.0 in c:\\users\\deep khokhar\\anaconda3\\lib\\site-packages (from google-auth-oauthlib<1.1,>=0.5->tensorboard<2.14,>=2.13->tensorflow-intel==2.13.0->tensorflow>=1.9.0->deepface) (1.3.1)\n",
      "Requirement already satisfied: pyasn1<0.5.0,>=0.4.6 in c:\\users\\deep khokhar\\anaconda3\\lib\\site-packages (from pyasn1-modules>=0.2.1->google-auth<3,>=1.6.3->tensorboard<2.14,>=2.13->tensorflow-intel==2.13.0->tensorflow>=1.9.0->deepface) (0.4.8)\n",
      "Requirement already satisfied: oauthlib>=3.0.0 in c:\\users\\deep khokhar\\anaconda3\\lib\\site-packages (from requests-oauthlib>=0.7.0->google-auth-oauthlib<1.1,>=0.5->tensorboard<2.14,>=2.13->tensorflow-intel==2.13.0->tensorflow>=1.9.0->deepface) (3.2.2)\n",
      "Note: you may need to restart the kernel to use updated packages.\n"
     ]
    }
   ],
   "source": [
    "\n",
    "pip install deepface"
   ]
  },
  {
   "cell_type": "code",
   "execution_count": 2,
   "id": "f3acb652",
   "metadata": {},
   "outputs": [],
   "source": [
    "import cv2\n",
    "from deepface import DeepFace"
   ]
  },
  {
   "cell_type": "code",
   "execution_count": 3,
   "id": "19c1aa4d",
   "metadata": {},
   "outputs": [],
   "source": [
    "faceCascade = cv2.CascadeClassifier(cv2.data.haarcascades + 'haarcascade_frontalface_default.xml')\n"
   ]
  },
  {
   "cell_type": "code",
   "execution_count": null,
   "id": "d2e9dd7e",
   "metadata": {},
   "outputs": [],
   "source": [
    "import cv2\n",
    "from deepface import DeepFace\n",
    "\n",
    "faceCascade = cv2.CascadeClassifier(cv2.data.haarcascades + 'haarcascade_frontalface_default.xml')\n",
    "\n",
    "cap = cv2.VideoCapture(1)\n",
    "\n",
    "if not cap.isOpened():\n",
    "    cap = cv2.VideoCapture(0)\n",
    "if not cap.isOpened():\n",
    "    raise IOError(\"Can not open webcam\")\n",
    "    \n",
    "while True:\n",
    "    ret,frame = cap.read()\n",
    "    result = DeepFace.analyze(frame,actions=['emotion'])\n",
    "    \n",
    "    gray = cv2.cvtColor(frame, cv2.COLOR_BGR2GRAY)\n",
    "    \n",
    "    faces = faceCascade.detectMultiScale(gray,1.1,4)\n",
    "    \n",
    "    for(x,y,w,h) in faces:\n",
    "        cv2.rectangle(frame,(x,y),(x+w,y+h),(0,255,0),2)\n",
    "    \n",
    "    font = cv2.FONT_HERSHEY_SIMPLEX\n",
    "    \n",
    "    cv2.putText(frame,\n",
    "                result[0]['dominant_emotion'],\n",
    "                (50,50),\n",
    "                font,3,\n",
    "                (0,0,255),\n",
    "                2,\n",
    "                cv2.LINE_4)\n",
    "    cv2.imshow('Demo video',frame)\n",
    "    \n",
    "    if cv2.waitKey(2) & 0xFF == ord('q'):\n",
    "        break\n",
    "        \n",
    "cap.release()\n",
    "cv2.destroyAllWindows()\n",
    "    "
   ]
  },
  {
   "cell_type": "code",
   "execution_count": null,
   "id": "39199f54",
   "metadata": {},
   "outputs": [],
   "source": [
    "img = cv2.imread('happy.jpg')"
   ]
  },
  {
   "cell_type": "code",
   "execution_count": null,
   "id": "61147355",
   "metadata": {},
   "outputs": [],
   "source": [
    "prediction = DeepFace.analyze(img)"
   ]
  },
  {
   "cell_type": "code",
   "execution_count": null,
   "id": "93181799",
   "metadata": {},
   "outputs": [],
   "source": [
    "prediction\n"
   ]
  },
  {
   "cell_type": "code",
   "execution_count": null,
   "id": "d862799e",
   "metadata": {},
   "outputs": [],
   "source": [
    "faceCascade = cv2.CascadeClassifier(cv2.data.haarcascades + 'haarcascade_frontalface_default.xml')\n"
   ]
  },
  {
   "cell_type": "code",
   "execution_count": null,
   "id": "0a616a21",
   "metadata": {},
   "outputs": [],
   "source": [
    "gray = cv2.cvtColor(frame, cv2.COLOR_BGR2GRAY)\n",
    "faces = faceCascade.detectMultiScale(gray,1.1,4)\n",
    "for(x,y,w,h) in faces:\n",
    "        cv2.rectangle(frame,(x,y),(x+w,y+h),(0,255,0),2)"
   ]
  }
 ],
 "metadata": {
  "kernelspec": {
   "display_name": "Python 3 (ipykernel)",
   "language": "python",
   "name": "python3"
  },
  "language_info": {
   "codemirror_mode": {
    "name": "ipython",
    "version": 3
   },
   "file_extension": ".py",
   "mimetype": "text/x-python",
   "name": "python",
   "nbconvert_exporter": "python",
   "pygments_lexer": "ipython3",
   "version": "3.9.13"
  }
 },
 "nbformat": 4,
 "nbformat_minor": 5
}
